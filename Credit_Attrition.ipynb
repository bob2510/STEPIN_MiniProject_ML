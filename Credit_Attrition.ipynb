{
  "nbformat": 4,
  "nbformat_minor": 0,
  "metadata": {
    "colab": {
      "name": "Credit_Attrition.ipynb",
      "provenance": []
    },
    "kernelspec": {
      "name": "python3",
      "display_name": "Python 3"
    },
    "language_info": {
      "name": "python"
    }
  },
  "cells": [
    {
      "cell_type": "code",
      "metadata": {
        "id": "JEOD4YkamXs_"
      },
      "source": [
        "import numpy as np\n",
        "import pandas as pd\n",
        "from sklearn.model_selection import train_test_split"
      ],
      "execution_count": 102,
      "outputs": []
    },
    {
      "cell_type": "code",
      "metadata": {
        "colab": {
          "base_uri": "https://localhost:8080/"
        },
        "id": "qaIfq4DTmbx1",
        "outputId": "4d084fa2-4514-430c-8531-1c3906ee7b09"
      },
      "source": [
        "data = pd.read_csv('/content/drive/MyDrive/Credit_card_attrition/Card_Attrition.csv', sep=';')\n",
        "print(data)"
      ],
      "execution_count": 103,
      "outputs": [
        {
          "output_type": "stream",
          "text": [
            "       CLIENTNUM  Attrition_Flag  ...  Trans_Count_Feb13 Trans_Count_Mar13\n",
            "0      768805383               0  ...                  7                 7\n",
            "1      818770008               0  ...                  7                 8\n",
            "2      713982108               0  ...                  4                 5\n",
            "3      769911858               0  ...                  2                 7\n",
            "4      709106358               0  ...                  5                 6\n",
            "...          ...             ...  ...                ...               ...\n",
            "10122  772366833               0  ...                 18                18\n",
            "10123  710638233               1  ...                  9                10\n",
            "10124  716506083               1  ...                  6                12\n",
            "10125  717406983               1  ...                  2                 9\n",
            "10126  714337233               1  ...                  9                 9\n",
            "\n",
            "[10127 rows x 27 columns]\n"
          ],
          "name": "stdout"
        }
      ]
    },
    {
      "cell_type": "markdown",
      "metadata": {
        "id": "SBOc75-919q2"
      },
      "source": [
        "### **DATA PROCESSING**"
      ]
    },
    {
      "cell_type": "markdown",
      "metadata": {
        "id": "JOwh2oRw2EJr"
      },
      "source": [
        "First, we need to check if there are any duplicate rows in the dataset"
      ]
    },
    {
      "cell_type": "code",
      "metadata": {
        "colab": {
          "base_uri": "https://localhost:8080/"
        },
        "id": "Ms6GIHv-18N5",
        "outputId": "21879ec2-03e8-4261-9f09-42ce9eabe050"
      },
      "source": [
        "duplicate = data[data.duplicated()]\n",
        "print(duplicate)"
      ],
      "execution_count": 104,
      "outputs": [
        {
          "output_type": "stream",
          "text": [
            "Empty DataFrame\n",
            "Columns: [CLIENTNUM, Attrition_Flag, Customer_Age, Gender, Dependent_count, Education_Level, Marital_Status, Income_Category, Card_Category, Months_on_book, Total_Relationship_Count, Months_Inactive_12_mon, Contacts_Count_12_mon, Credit_Limit, Total_Revolving_Bal, Trans_Amt_Oct12, Trans_Amt_Nov12, Trans_Amt_Dec12, Trans_Amt_Jan13, Trans_Amt_Feb13, Trans_Amt_Mar13, Trans_Count_Oct12, Trans_Count_Nov12, Trans_Count_Dec12, Trans_Count_Jan13, Trans_Count_Feb13, Trans_Count_Mar13]\n",
            "Index: []\n"
          ],
          "name": "stdout"
        }
      ]
    },
    {
      "cell_type": "markdown",
      "metadata": {
        "id": "kG9-Ctut2vVO"
      },
      "source": [
        "So, there are no duplicate rows"
      ]
    },
    {
      "cell_type": "markdown",
      "metadata": {
        "id": "WVDI1zJK2yQ_"
      },
      "source": [
        "Now, we need to check for any missing data in the whole dataset"
      ]
    },
    {
      "cell_type": "code",
      "metadata": {
        "colab": {
          "base_uri": "https://localhost:8080/"
        },
        "id": "UeDHbytC25lS",
        "outputId": "cb4bdd5a-cedd-48ef-e365-1dd9ecd596d5"
      },
      "source": [
        "data.isnull().sum()"
      ],
      "execution_count": 105,
      "outputs": [
        {
          "output_type": "execute_result",
          "data": {
            "text/plain": [
              "CLIENTNUM                    0\n",
              "Attrition_Flag               0\n",
              "Customer_Age                14\n",
              "Gender                       0\n",
              "Dependent_count              0\n",
              "Education_Level              0\n",
              "Marital_Status               0\n",
              "Income_Category              0\n",
              "Card_Category                0\n",
              "Months_on_book               0\n",
              "Total_Relationship_Count     0\n",
              "Months_Inactive_12_mon       0\n",
              "Contacts_Count_12_mon        0\n",
              "Credit_Limit                 4\n",
              "Total_Revolving_Bal          0\n",
              "Trans_Amt_Oct12              0\n",
              "Trans_Amt_Nov12              0\n",
              "Trans_Amt_Dec12              0\n",
              "Trans_Amt_Jan13              0\n",
              "Trans_Amt_Feb13              0\n",
              "Trans_Amt_Mar13              0\n",
              "Trans_Count_Oct12            0\n",
              "Trans_Count_Nov12            0\n",
              "Trans_Count_Dec12            0\n",
              "Trans_Count_Jan13            0\n",
              "Trans_Count_Feb13            0\n",
              "Trans_Count_Mar13            0\n",
              "dtype: int64"
            ]
          },
          "metadata": {
            "tags": []
          },
          "execution_count": 105
        }
      ]
    },
    {
      "cell_type": "markdown",
      "metadata": {
        "id": "gYvxzmCI3NaC"
      },
      "source": [
        "So, there are 14 empty values in Customer_Age and 4 empty values in Credit_Limit\n",
        "\n",
        "We can fill these empty values with their coressponding class' median"
      ]
    },
    {
      "cell_type": "code",
      "metadata": {
        "id": "z7X9yBOH3XYz"
      },
      "source": [
        "data['Customer_Age'].fillna(data['Customer_Age'].median(), inplace= True)\n",
        "data['Credit_Limit'].fillna(data['Credit_Limit'].median(), inplace= True)"
      ],
      "execution_count": 106,
      "outputs": []
    },
    {
      "cell_type": "code",
      "metadata": {
        "colab": {
          "base_uri": "https://localhost:8080/"
        },
        "id": "frJ4dz1Z6BBy",
        "outputId": "c9f6327e-5b01-4b15-e1fd-f4a076ff94d3"
      },
      "source": [
        "data.isnull().sum()"
      ],
      "execution_count": 107,
      "outputs": [
        {
          "output_type": "execute_result",
          "data": {
            "text/plain": [
              "CLIENTNUM                   0\n",
              "Attrition_Flag              0\n",
              "Customer_Age                0\n",
              "Gender                      0\n",
              "Dependent_count             0\n",
              "Education_Level             0\n",
              "Marital_Status              0\n",
              "Income_Category             0\n",
              "Card_Category               0\n",
              "Months_on_book              0\n",
              "Total_Relationship_Count    0\n",
              "Months_Inactive_12_mon      0\n",
              "Contacts_Count_12_mon       0\n",
              "Credit_Limit                0\n",
              "Total_Revolving_Bal         0\n",
              "Trans_Amt_Oct12             0\n",
              "Trans_Amt_Nov12             0\n",
              "Trans_Amt_Dec12             0\n",
              "Trans_Amt_Jan13             0\n",
              "Trans_Amt_Feb13             0\n",
              "Trans_Amt_Mar13             0\n",
              "Trans_Count_Oct12           0\n",
              "Trans_Count_Nov12           0\n",
              "Trans_Count_Dec12           0\n",
              "Trans_Count_Jan13           0\n",
              "Trans_Count_Feb13           0\n",
              "Trans_Count_Mar13           0\n",
              "dtype: int64"
            ]
          },
          "metadata": {
            "tags": []
          },
          "execution_count": 107
        }
      ]
    },
    {
      "cell_type": "markdown",
      "metadata": {
        "id": "D2MH_Y2D6xZg"
      },
      "source": [
        "Missing Values successfully filled"
      ]
    },
    {
      "cell_type": "markdown",
      "metadata": {
        "id": "_Y_YN8Sp7A6i"
      },
      "source": [
        "Now, we have the data of \"Transaction_count\" and \"Transaction_Amount\" for each month\n",
        "\n",
        "Handling these data in month is too much so we can combine them and handle them in quarters.\n",
        "\n",
        "So, let's combine three months into one for both \"Trans_Amt\" as well as \"Trans_count\""
      ]
    },
    {
      "cell_type": "code",
      "metadata": {
        "colab": {
          "base_uri": "https://localhost:8080/",
          "height": 224
        },
        "id": "NiCLXXii73Bj",
        "outputId": "d6d06daa-0f68-48b9-b919-5b1211e2a362"
      },
      "source": [
        "#Dividing 6 months of Transaction Amount data into 2 Quarters and combining them\n",
        "data['Trans_Amt_Q1'] = data['Trans_Amt_Oct12'] + data['Trans_Amt_Nov12'] + data['Trans_Amt_Dec12']\n",
        "data['Trans_Amt_Q2'] = data['Trans_Amt_Jan13'] + data['Trans_Amt_Feb13'] + data['Trans_Amt_Mar13']\n",
        "\n",
        "#Dividing 6 months of Transaction Count data into 2 Quarters and combining them\n",
        "data['Trans_Count_Q1'] = data['Trans_Count_Oct12'] + data['Trans_Count_Nov12'] + data['Trans_Count_Dec12']\n",
        "data['Trans_Count_Q2'] = data['Trans_Count_Jan13'] + data['Trans_Count_Feb13'] + data['Trans_Count_Mar13']\n",
        "\n",
        "data.head()"
      ],
      "execution_count": 108,
      "outputs": [
        {
          "output_type": "execute_result",
          "data": {
            "text/html": [
              "<div>\n",
              "<style scoped>\n",
              "    .dataframe tbody tr th:only-of-type {\n",
              "        vertical-align: middle;\n",
              "    }\n",
              "\n",
              "    .dataframe tbody tr th {\n",
              "        vertical-align: top;\n",
              "    }\n",
              "\n",
              "    .dataframe thead th {\n",
              "        text-align: right;\n",
              "    }\n",
              "</style>\n",
              "<table border=\"1\" class=\"dataframe\">\n",
              "  <thead>\n",
              "    <tr style=\"text-align: right;\">\n",
              "      <th></th>\n",
              "      <th>CLIENTNUM</th>\n",
              "      <th>Attrition_Flag</th>\n",
              "      <th>Customer_Age</th>\n",
              "      <th>Gender</th>\n",
              "      <th>Dependent_count</th>\n",
              "      <th>Education_Level</th>\n",
              "      <th>Marital_Status</th>\n",
              "      <th>Income_Category</th>\n",
              "      <th>Card_Category</th>\n",
              "      <th>Months_on_book</th>\n",
              "      <th>Total_Relationship_Count</th>\n",
              "      <th>Months_Inactive_12_mon</th>\n",
              "      <th>Contacts_Count_12_mon</th>\n",
              "      <th>Credit_Limit</th>\n",
              "      <th>Total_Revolving_Bal</th>\n",
              "      <th>Trans_Amt_Oct12</th>\n",
              "      <th>Trans_Amt_Nov12</th>\n",
              "      <th>Trans_Amt_Dec12</th>\n",
              "      <th>Trans_Amt_Jan13</th>\n",
              "      <th>Trans_Amt_Feb13</th>\n",
              "      <th>Trans_Amt_Mar13</th>\n",
              "      <th>Trans_Count_Oct12</th>\n",
              "      <th>Trans_Count_Nov12</th>\n",
              "      <th>Trans_Count_Dec12</th>\n",
              "      <th>Trans_Count_Jan13</th>\n",
              "      <th>Trans_Count_Feb13</th>\n",
              "      <th>Trans_Count_Mar13</th>\n",
              "      <th>Trans_Amt_Q1</th>\n",
              "      <th>Trans_Amt_Q2</th>\n",
              "      <th>Trans_Count_Q1</th>\n",
              "      <th>Trans_Count_Q2</th>\n",
              "    </tr>\n",
              "  </thead>\n",
              "  <tbody>\n",
              "    <tr>\n",
              "      <th>0</th>\n",
              "      <td>768805383</td>\n",
              "      <td>0</td>\n",
              "      <td>45.0</td>\n",
              "      <td>M</td>\n",
              "      <td>3</td>\n",
              "      <td>High School</td>\n",
              "      <td>Married</td>\n",
              "      <td>$60K - $80K</td>\n",
              "      <td>Blue</td>\n",
              "      <td>39</td>\n",
              "      <td>5</td>\n",
              "      <td>1</td>\n",
              "      <td>3</td>\n",
              "      <td>12691.0</td>\n",
              "      <td>777</td>\n",
              "      <td>0</td>\n",
              "      <td>237</td>\n",
              "      <td>253</td>\n",
              "      <td>196</td>\n",
              "      <td>196</td>\n",
              "      <td>262</td>\n",
              "      <td>0</td>\n",
              "      <td>7</td>\n",
              "      <td>9</td>\n",
              "      <td>12</td>\n",
              "      <td>7</td>\n",
              "      <td>7</td>\n",
              "      <td>490</td>\n",
              "      <td>654</td>\n",
              "      <td>16</td>\n",
              "      <td>26</td>\n",
              "    </tr>\n",
              "    <tr>\n",
              "      <th>1</th>\n",
              "      <td>818770008</td>\n",
              "      <td>0</td>\n",
              "      <td>49.0</td>\n",
              "      <td>F</td>\n",
              "      <td>5</td>\n",
              "      <td>Graduate</td>\n",
              "      <td>Single</td>\n",
              "      <td>Less than $40K</td>\n",
              "      <td>Blue</td>\n",
              "      <td>44</td>\n",
              "      <td>6</td>\n",
              "      <td>1</td>\n",
              "      <td>2</td>\n",
              "      <td>8256.0</td>\n",
              "      <td>864</td>\n",
              "      <td>0</td>\n",
              "      <td>266</td>\n",
              "      <td>242</td>\n",
              "      <td>323</td>\n",
              "      <td>222</td>\n",
              "      <td>238</td>\n",
              "      <td>0</td>\n",
              "      <td>1</td>\n",
              "      <td>6</td>\n",
              "      <td>11</td>\n",
              "      <td>7</td>\n",
              "      <td>8</td>\n",
              "      <td>508</td>\n",
              "      <td>783</td>\n",
              "      <td>7</td>\n",
              "      <td>26</td>\n",
              "    </tr>\n",
              "    <tr>\n",
              "      <th>2</th>\n",
              "      <td>713982108</td>\n",
              "      <td>0</td>\n",
              "      <td>51.0</td>\n",
              "      <td>M</td>\n",
              "      <td>3</td>\n",
              "      <td>Graduate</td>\n",
              "      <td>Married</td>\n",
              "      <td>$80K - $120K</td>\n",
              "      <td>Blue</td>\n",
              "      <td>36</td>\n",
              "      <td>4</td>\n",
              "      <td>1</td>\n",
              "      <td>0</td>\n",
              "      <td>3418.0</td>\n",
              "      <td>0</td>\n",
              "      <td>0</td>\n",
              "      <td>195</td>\n",
              "      <td>330</td>\n",
              "      <td>967</td>\n",
              "      <td>213</td>\n",
              "      <td>182</td>\n",
              "      <td>0</td>\n",
              "      <td>1</td>\n",
              "      <td>5</td>\n",
              "      <td>5</td>\n",
              "      <td>4</td>\n",
              "      <td>5</td>\n",
              "      <td>525</td>\n",
              "      <td>1362</td>\n",
              "      <td>6</td>\n",
              "      <td>14</td>\n",
              "    </tr>\n",
              "    <tr>\n",
              "      <th>3</th>\n",
              "      <td>769911858</td>\n",
              "      <td>0</td>\n",
              "      <td>40.0</td>\n",
              "      <td>F</td>\n",
              "      <td>4</td>\n",
              "      <td>High School</td>\n",
              "      <td>Unknown</td>\n",
              "      <td>Less than $40K</td>\n",
              "      <td>Blue</td>\n",
              "      <td>34</td>\n",
              "      <td>3</td>\n",
              "      <td>4</td>\n",
              "      <td>1</td>\n",
              "      <td>3313.0</td>\n",
              "      <td>2661</td>\n",
              "      <td>0</td>\n",
              "      <td>321</td>\n",
              "      <td>166</td>\n",
              "      <td>184</td>\n",
              "      <td>285</td>\n",
              "      <td>215</td>\n",
              "      <td>0</td>\n",
              "      <td>4</td>\n",
              "      <td>2</td>\n",
              "      <td>5</td>\n",
              "      <td>2</td>\n",
              "      <td>7</td>\n",
              "      <td>487</td>\n",
              "      <td>684</td>\n",
              "      <td>6</td>\n",
              "      <td>14</td>\n",
              "    </tr>\n",
              "    <tr>\n",
              "      <th>4</th>\n",
              "      <td>709106358</td>\n",
              "      <td>0</td>\n",
              "      <td>40.0</td>\n",
              "      <td>M</td>\n",
              "      <td>3</td>\n",
              "      <td>Uneducated</td>\n",
              "      <td>Married</td>\n",
              "      <td>$60K - $80K</td>\n",
              "      <td>Blue</td>\n",
              "      <td>21</td>\n",
              "      <td>5</td>\n",
              "      <td>1</td>\n",
              "      <td>0</td>\n",
              "      <td>4716.0</td>\n",
              "      <td>0</td>\n",
              "      <td>0</td>\n",
              "      <td>108</td>\n",
              "      <td>149</td>\n",
              "      <td>192</td>\n",
              "      <td>88</td>\n",
              "      <td>279</td>\n",
              "      <td>0</td>\n",
              "      <td>1</td>\n",
              "      <td>7</td>\n",
              "      <td>9</td>\n",
              "      <td>5</td>\n",
              "      <td>6</td>\n",
              "      <td>257</td>\n",
              "      <td>559</td>\n",
              "      <td>8</td>\n",
              "      <td>20</td>\n",
              "    </tr>\n",
              "  </tbody>\n",
              "</table>\n",
              "</div>"
            ],
            "text/plain": [
              "   CLIENTNUM  Attrition_Flag  ...  Trans_Count_Q1 Trans_Count_Q2\n",
              "0  768805383               0  ...              16             26\n",
              "1  818770008               0  ...               7             26\n",
              "2  713982108               0  ...               6             14\n",
              "3  769911858               0  ...               6             14\n",
              "4  709106358               0  ...               8             20\n",
              "\n",
              "[5 rows x 31 columns]"
            ]
          },
          "metadata": {
            "tags": []
          },
          "execution_count": 108
        }
      ]
    },
    {
      "cell_type": "markdown",
      "metadata": {
        "id": "w2iVwdoQ9gXx"
      },
      "source": [
        "Noe, in this project, we are supposed to find the people who will leave the credit card after some time.\n",
        "\n",
        "So, the ratio of people in the second quarter to people in first quarter can be a good tool to predict the upcoming future"
      ]
    },
    {
      "cell_type": "code",
      "metadata": {
        "id": "KP4Zwa9G90s0"
      },
      "source": [
        "data['Trans_Amt_ratio'] = data['Trans_Amt_Q2'] / data['Trans_Amt_Q1']\n",
        "\n",
        "data['Trans_Count_ratio'] = data['Trans_Count_Q2'] / data['Trans_Count_Q1']"
      ],
      "execution_count": 109,
      "outputs": []
    },
    {
      "cell_type": "code",
      "metadata": {
        "colab": {
          "base_uri": "https://localhost:8080/",
          "height": 224
        },
        "id": "vLbDnWB19z74",
        "outputId": "28b804f4-dffa-4e0c-8e7c-634bc949abe7"
      },
      "source": [
        "data.head()"
      ],
      "execution_count": 110,
      "outputs": [
        {
          "output_type": "execute_result",
          "data": {
            "text/html": [
              "<div>\n",
              "<style scoped>\n",
              "    .dataframe tbody tr th:only-of-type {\n",
              "        vertical-align: middle;\n",
              "    }\n",
              "\n",
              "    .dataframe tbody tr th {\n",
              "        vertical-align: top;\n",
              "    }\n",
              "\n",
              "    .dataframe thead th {\n",
              "        text-align: right;\n",
              "    }\n",
              "</style>\n",
              "<table border=\"1\" class=\"dataframe\">\n",
              "  <thead>\n",
              "    <tr style=\"text-align: right;\">\n",
              "      <th></th>\n",
              "      <th>CLIENTNUM</th>\n",
              "      <th>Attrition_Flag</th>\n",
              "      <th>Customer_Age</th>\n",
              "      <th>Gender</th>\n",
              "      <th>Dependent_count</th>\n",
              "      <th>Education_Level</th>\n",
              "      <th>Marital_Status</th>\n",
              "      <th>Income_Category</th>\n",
              "      <th>Card_Category</th>\n",
              "      <th>Months_on_book</th>\n",
              "      <th>Total_Relationship_Count</th>\n",
              "      <th>Months_Inactive_12_mon</th>\n",
              "      <th>Contacts_Count_12_mon</th>\n",
              "      <th>Credit_Limit</th>\n",
              "      <th>Total_Revolving_Bal</th>\n",
              "      <th>Trans_Amt_Oct12</th>\n",
              "      <th>Trans_Amt_Nov12</th>\n",
              "      <th>Trans_Amt_Dec12</th>\n",
              "      <th>Trans_Amt_Jan13</th>\n",
              "      <th>Trans_Amt_Feb13</th>\n",
              "      <th>Trans_Amt_Mar13</th>\n",
              "      <th>Trans_Count_Oct12</th>\n",
              "      <th>Trans_Count_Nov12</th>\n",
              "      <th>Trans_Count_Dec12</th>\n",
              "      <th>Trans_Count_Jan13</th>\n",
              "      <th>Trans_Count_Feb13</th>\n",
              "      <th>Trans_Count_Mar13</th>\n",
              "      <th>Trans_Amt_Q1</th>\n",
              "      <th>Trans_Amt_Q2</th>\n",
              "      <th>Trans_Count_Q1</th>\n",
              "      <th>Trans_Count_Q2</th>\n",
              "      <th>Trans_Amt_ratio</th>\n",
              "      <th>Trans_Count_ratio</th>\n",
              "    </tr>\n",
              "  </thead>\n",
              "  <tbody>\n",
              "    <tr>\n",
              "      <th>0</th>\n",
              "      <td>768805383</td>\n",
              "      <td>0</td>\n",
              "      <td>45.0</td>\n",
              "      <td>M</td>\n",
              "      <td>3</td>\n",
              "      <td>High School</td>\n",
              "      <td>Married</td>\n",
              "      <td>$60K - $80K</td>\n",
              "      <td>Blue</td>\n",
              "      <td>39</td>\n",
              "      <td>5</td>\n",
              "      <td>1</td>\n",
              "      <td>3</td>\n",
              "      <td>12691.0</td>\n",
              "      <td>777</td>\n",
              "      <td>0</td>\n",
              "      <td>237</td>\n",
              "      <td>253</td>\n",
              "      <td>196</td>\n",
              "      <td>196</td>\n",
              "      <td>262</td>\n",
              "      <td>0</td>\n",
              "      <td>7</td>\n",
              "      <td>9</td>\n",
              "      <td>12</td>\n",
              "      <td>7</td>\n",
              "      <td>7</td>\n",
              "      <td>490</td>\n",
              "      <td>654</td>\n",
              "      <td>16</td>\n",
              "      <td>26</td>\n",
              "      <td>1.334694</td>\n",
              "      <td>1.625000</td>\n",
              "    </tr>\n",
              "    <tr>\n",
              "      <th>1</th>\n",
              "      <td>818770008</td>\n",
              "      <td>0</td>\n",
              "      <td>49.0</td>\n",
              "      <td>F</td>\n",
              "      <td>5</td>\n",
              "      <td>Graduate</td>\n",
              "      <td>Single</td>\n",
              "      <td>Less than $40K</td>\n",
              "      <td>Blue</td>\n",
              "      <td>44</td>\n",
              "      <td>6</td>\n",
              "      <td>1</td>\n",
              "      <td>2</td>\n",
              "      <td>8256.0</td>\n",
              "      <td>864</td>\n",
              "      <td>0</td>\n",
              "      <td>266</td>\n",
              "      <td>242</td>\n",
              "      <td>323</td>\n",
              "      <td>222</td>\n",
              "      <td>238</td>\n",
              "      <td>0</td>\n",
              "      <td>1</td>\n",
              "      <td>6</td>\n",
              "      <td>11</td>\n",
              "      <td>7</td>\n",
              "      <td>8</td>\n",
              "      <td>508</td>\n",
              "      <td>783</td>\n",
              "      <td>7</td>\n",
              "      <td>26</td>\n",
              "      <td>1.541339</td>\n",
              "      <td>3.714286</td>\n",
              "    </tr>\n",
              "    <tr>\n",
              "      <th>2</th>\n",
              "      <td>713982108</td>\n",
              "      <td>0</td>\n",
              "      <td>51.0</td>\n",
              "      <td>M</td>\n",
              "      <td>3</td>\n",
              "      <td>Graduate</td>\n",
              "      <td>Married</td>\n",
              "      <td>$80K - $120K</td>\n",
              "      <td>Blue</td>\n",
              "      <td>36</td>\n",
              "      <td>4</td>\n",
              "      <td>1</td>\n",
              "      <td>0</td>\n",
              "      <td>3418.0</td>\n",
              "      <td>0</td>\n",
              "      <td>0</td>\n",
              "      <td>195</td>\n",
              "      <td>330</td>\n",
              "      <td>967</td>\n",
              "      <td>213</td>\n",
              "      <td>182</td>\n",
              "      <td>0</td>\n",
              "      <td>1</td>\n",
              "      <td>5</td>\n",
              "      <td>5</td>\n",
              "      <td>4</td>\n",
              "      <td>5</td>\n",
              "      <td>525</td>\n",
              "      <td>1362</td>\n",
              "      <td>6</td>\n",
              "      <td>14</td>\n",
              "      <td>2.594286</td>\n",
              "      <td>2.333333</td>\n",
              "    </tr>\n",
              "    <tr>\n",
              "      <th>3</th>\n",
              "      <td>769911858</td>\n",
              "      <td>0</td>\n",
              "      <td>40.0</td>\n",
              "      <td>F</td>\n",
              "      <td>4</td>\n",
              "      <td>High School</td>\n",
              "      <td>Unknown</td>\n",
              "      <td>Less than $40K</td>\n",
              "      <td>Blue</td>\n",
              "      <td>34</td>\n",
              "      <td>3</td>\n",
              "      <td>4</td>\n",
              "      <td>1</td>\n",
              "      <td>3313.0</td>\n",
              "      <td>2661</td>\n",
              "      <td>0</td>\n",
              "      <td>321</td>\n",
              "      <td>166</td>\n",
              "      <td>184</td>\n",
              "      <td>285</td>\n",
              "      <td>215</td>\n",
              "      <td>0</td>\n",
              "      <td>4</td>\n",
              "      <td>2</td>\n",
              "      <td>5</td>\n",
              "      <td>2</td>\n",
              "      <td>7</td>\n",
              "      <td>487</td>\n",
              "      <td>684</td>\n",
              "      <td>6</td>\n",
              "      <td>14</td>\n",
              "      <td>1.404517</td>\n",
              "      <td>2.333333</td>\n",
              "    </tr>\n",
              "    <tr>\n",
              "      <th>4</th>\n",
              "      <td>709106358</td>\n",
              "      <td>0</td>\n",
              "      <td>40.0</td>\n",
              "      <td>M</td>\n",
              "      <td>3</td>\n",
              "      <td>Uneducated</td>\n",
              "      <td>Married</td>\n",
              "      <td>$60K - $80K</td>\n",
              "      <td>Blue</td>\n",
              "      <td>21</td>\n",
              "      <td>5</td>\n",
              "      <td>1</td>\n",
              "      <td>0</td>\n",
              "      <td>4716.0</td>\n",
              "      <td>0</td>\n",
              "      <td>0</td>\n",
              "      <td>108</td>\n",
              "      <td>149</td>\n",
              "      <td>192</td>\n",
              "      <td>88</td>\n",
              "      <td>279</td>\n",
              "      <td>0</td>\n",
              "      <td>1</td>\n",
              "      <td>7</td>\n",
              "      <td>9</td>\n",
              "      <td>5</td>\n",
              "      <td>6</td>\n",
              "      <td>257</td>\n",
              "      <td>559</td>\n",
              "      <td>8</td>\n",
              "      <td>20</td>\n",
              "      <td>2.175097</td>\n",
              "      <td>2.500000</td>\n",
              "    </tr>\n",
              "  </tbody>\n",
              "</table>\n",
              "</div>"
            ],
            "text/plain": [
              "   CLIENTNUM  Attrition_Flag  ...  Trans_Amt_ratio Trans_Count_ratio\n",
              "0  768805383               0  ...         1.334694          1.625000\n",
              "1  818770008               0  ...         1.541339          3.714286\n",
              "2  713982108               0  ...         2.594286          2.333333\n",
              "3  769911858               0  ...         1.404517          2.333333\n",
              "4  709106358               0  ...         2.175097          2.500000\n",
              "\n",
              "[5 rows x 33 columns]"
            ]
          },
          "metadata": {
            "tags": []
          },
          "execution_count": 110
        }
      ]
    },
    {
      "cell_type": "markdown",
      "metadata": {
        "id": "-u7MzIS4-MpZ"
      },
      "source": [
        "Now, we can drop the data of all 6 months and the newly formed quarter data"
      ]
    },
    {
      "cell_type": "code",
      "metadata": {
        "colab": {
          "base_uri": "https://localhost:8080/",
          "height": 224
        },
        "id": "hJ-CrhUsAzNi",
        "outputId": "28698c1a-645f-4f47-f38a-0692217469f5"
      },
      "source": [
        "dropping = ['Trans_Amt_Oct12','Trans_Amt_Nov12', 'Trans_Amt_Dec12', 'Trans_Amt_Jan13', 'Trans_Amt_Feb13', 'Trans_Amt_Mar13',\n",
        "            'Trans_Count_Oct12','Trans_Count_Nov12', 'Trans_Count_Dec12', 'Trans_Count_Jan13', 'Trans_Count_Feb13', 'Trans_Count_Mar13',\n",
        "            'Trans_Count_Q1', 'Trans_Count_Q2', 'Trans_Amt_Q1', 'Trans_Amt_Q2','Education_Level', 'Income_Category', 'Customer_Age', 'CLIENTNUM']\n",
        "data_new = data.drop(dropping, axis=1)\n",
        "data_new.head()"
      ],
      "execution_count": 111,
      "outputs": [
        {
          "output_type": "execute_result",
          "data": {
            "text/html": [
              "<div>\n",
              "<style scoped>\n",
              "    .dataframe tbody tr th:only-of-type {\n",
              "        vertical-align: middle;\n",
              "    }\n",
              "\n",
              "    .dataframe tbody tr th {\n",
              "        vertical-align: top;\n",
              "    }\n",
              "\n",
              "    .dataframe thead th {\n",
              "        text-align: right;\n",
              "    }\n",
              "</style>\n",
              "<table border=\"1\" class=\"dataframe\">\n",
              "  <thead>\n",
              "    <tr style=\"text-align: right;\">\n",
              "      <th></th>\n",
              "      <th>Attrition_Flag</th>\n",
              "      <th>Gender</th>\n",
              "      <th>Dependent_count</th>\n",
              "      <th>Marital_Status</th>\n",
              "      <th>Card_Category</th>\n",
              "      <th>Months_on_book</th>\n",
              "      <th>Total_Relationship_Count</th>\n",
              "      <th>Months_Inactive_12_mon</th>\n",
              "      <th>Contacts_Count_12_mon</th>\n",
              "      <th>Credit_Limit</th>\n",
              "      <th>Total_Revolving_Bal</th>\n",
              "      <th>Trans_Amt_ratio</th>\n",
              "      <th>Trans_Count_ratio</th>\n",
              "    </tr>\n",
              "  </thead>\n",
              "  <tbody>\n",
              "    <tr>\n",
              "      <th>0</th>\n",
              "      <td>0</td>\n",
              "      <td>M</td>\n",
              "      <td>3</td>\n",
              "      <td>Married</td>\n",
              "      <td>Blue</td>\n",
              "      <td>39</td>\n",
              "      <td>5</td>\n",
              "      <td>1</td>\n",
              "      <td>3</td>\n",
              "      <td>12691.0</td>\n",
              "      <td>777</td>\n",
              "      <td>1.334694</td>\n",
              "      <td>1.625000</td>\n",
              "    </tr>\n",
              "    <tr>\n",
              "      <th>1</th>\n",
              "      <td>0</td>\n",
              "      <td>F</td>\n",
              "      <td>5</td>\n",
              "      <td>Single</td>\n",
              "      <td>Blue</td>\n",
              "      <td>44</td>\n",
              "      <td>6</td>\n",
              "      <td>1</td>\n",
              "      <td>2</td>\n",
              "      <td>8256.0</td>\n",
              "      <td>864</td>\n",
              "      <td>1.541339</td>\n",
              "      <td>3.714286</td>\n",
              "    </tr>\n",
              "    <tr>\n",
              "      <th>2</th>\n",
              "      <td>0</td>\n",
              "      <td>M</td>\n",
              "      <td>3</td>\n",
              "      <td>Married</td>\n",
              "      <td>Blue</td>\n",
              "      <td>36</td>\n",
              "      <td>4</td>\n",
              "      <td>1</td>\n",
              "      <td>0</td>\n",
              "      <td>3418.0</td>\n",
              "      <td>0</td>\n",
              "      <td>2.594286</td>\n",
              "      <td>2.333333</td>\n",
              "    </tr>\n",
              "    <tr>\n",
              "      <th>3</th>\n",
              "      <td>0</td>\n",
              "      <td>F</td>\n",
              "      <td>4</td>\n",
              "      <td>Unknown</td>\n",
              "      <td>Blue</td>\n",
              "      <td>34</td>\n",
              "      <td>3</td>\n",
              "      <td>4</td>\n",
              "      <td>1</td>\n",
              "      <td>3313.0</td>\n",
              "      <td>2661</td>\n",
              "      <td>1.404517</td>\n",
              "      <td>2.333333</td>\n",
              "    </tr>\n",
              "    <tr>\n",
              "      <th>4</th>\n",
              "      <td>0</td>\n",
              "      <td>M</td>\n",
              "      <td>3</td>\n",
              "      <td>Married</td>\n",
              "      <td>Blue</td>\n",
              "      <td>21</td>\n",
              "      <td>5</td>\n",
              "      <td>1</td>\n",
              "      <td>0</td>\n",
              "      <td>4716.0</td>\n",
              "      <td>0</td>\n",
              "      <td>2.175097</td>\n",
              "      <td>2.500000</td>\n",
              "    </tr>\n",
              "  </tbody>\n",
              "</table>\n",
              "</div>"
            ],
            "text/plain": [
              "   Attrition_Flag Gender  ...  Trans_Amt_ratio Trans_Count_ratio\n",
              "0               0      M  ...         1.334694          1.625000\n",
              "1               0      F  ...         1.541339          3.714286\n",
              "2               0      M  ...         2.594286          2.333333\n",
              "3               0      F  ...         1.404517          2.333333\n",
              "4               0      M  ...         2.175097          2.500000\n",
              "\n",
              "[5 rows x 13 columns]"
            ]
          },
          "metadata": {
            "tags": []
          },
          "execution_count": 111
        }
      ]
    },
    {
      "cell_type": "markdown",
      "metadata": {
        "id": "VZ0TQASVFBPx"
      },
      "source": [
        "### **Numerical values to the categorical data**"
      ]
    },
    {
      "cell_type": "code",
      "metadata": {
        "colab": {
          "base_uri": "https://localhost:8080/"
        },
        "id": "ENby_jCTExxo",
        "outputId": "2194af5c-2426-4f99-e9b9-c6698c9e3247"
      },
      "source": [
        "data['Marital_Status'].value_counts()"
      ],
      "execution_count": 112,
      "outputs": [
        {
          "output_type": "execute_result",
          "data": {
            "text/plain": [
              "Married     4687\n",
              "Single      3943\n",
              "Unknown      749\n",
              "Divorced     748\n",
              "Name: Marital_Status, dtype: int64"
            ]
          },
          "metadata": {
            "tags": []
          },
          "execution_count": 112
        }
      ]
    },
    {
      "cell_type": "code",
      "metadata": {
        "colab": {
          "base_uri": "https://localhost:8080/",
          "height": 0
        },
        "id": "7h5utK55E7Oc",
        "outputId": "1178f0fb-85f4-4a0a-a359-ba2d3c0470c0"
      },
      "source": [
        "Marital_status_mapping = {\"Married\": 0, \"Single\": 1, \"Unknown\":2, \"Divorced\":3}\n",
        "#for dataset in data_new:\n",
        "data_new['Marital_Status'] = data_new['Marital_Status'].map(Marital_status_mapping)\n",
        "data_new.head()"
      ],
      "execution_count": 113,
      "outputs": [
        {
          "output_type": "execute_result",
          "data": {
            "text/html": [
              "<div>\n",
              "<style scoped>\n",
              "    .dataframe tbody tr th:only-of-type {\n",
              "        vertical-align: middle;\n",
              "    }\n",
              "\n",
              "    .dataframe tbody tr th {\n",
              "        vertical-align: top;\n",
              "    }\n",
              "\n",
              "    .dataframe thead th {\n",
              "        text-align: right;\n",
              "    }\n",
              "</style>\n",
              "<table border=\"1\" class=\"dataframe\">\n",
              "  <thead>\n",
              "    <tr style=\"text-align: right;\">\n",
              "      <th></th>\n",
              "      <th>Attrition_Flag</th>\n",
              "      <th>Gender</th>\n",
              "      <th>Dependent_count</th>\n",
              "      <th>Marital_Status</th>\n",
              "      <th>Card_Category</th>\n",
              "      <th>Months_on_book</th>\n",
              "      <th>Total_Relationship_Count</th>\n",
              "      <th>Months_Inactive_12_mon</th>\n",
              "      <th>Contacts_Count_12_mon</th>\n",
              "      <th>Credit_Limit</th>\n",
              "      <th>Total_Revolving_Bal</th>\n",
              "      <th>Trans_Amt_ratio</th>\n",
              "      <th>Trans_Count_ratio</th>\n",
              "    </tr>\n",
              "  </thead>\n",
              "  <tbody>\n",
              "    <tr>\n",
              "      <th>0</th>\n",
              "      <td>0</td>\n",
              "      <td>M</td>\n",
              "      <td>3</td>\n",
              "      <td>0</td>\n",
              "      <td>Blue</td>\n",
              "      <td>39</td>\n",
              "      <td>5</td>\n",
              "      <td>1</td>\n",
              "      <td>3</td>\n",
              "      <td>12691.0</td>\n",
              "      <td>777</td>\n",
              "      <td>1.334694</td>\n",
              "      <td>1.625000</td>\n",
              "    </tr>\n",
              "    <tr>\n",
              "      <th>1</th>\n",
              "      <td>0</td>\n",
              "      <td>F</td>\n",
              "      <td>5</td>\n",
              "      <td>1</td>\n",
              "      <td>Blue</td>\n",
              "      <td>44</td>\n",
              "      <td>6</td>\n",
              "      <td>1</td>\n",
              "      <td>2</td>\n",
              "      <td>8256.0</td>\n",
              "      <td>864</td>\n",
              "      <td>1.541339</td>\n",
              "      <td>3.714286</td>\n",
              "    </tr>\n",
              "    <tr>\n",
              "      <th>2</th>\n",
              "      <td>0</td>\n",
              "      <td>M</td>\n",
              "      <td>3</td>\n",
              "      <td>0</td>\n",
              "      <td>Blue</td>\n",
              "      <td>36</td>\n",
              "      <td>4</td>\n",
              "      <td>1</td>\n",
              "      <td>0</td>\n",
              "      <td>3418.0</td>\n",
              "      <td>0</td>\n",
              "      <td>2.594286</td>\n",
              "      <td>2.333333</td>\n",
              "    </tr>\n",
              "    <tr>\n",
              "      <th>3</th>\n",
              "      <td>0</td>\n",
              "      <td>F</td>\n",
              "      <td>4</td>\n",
              "      <td>2</td>\n",
              "      <td>Blue</td>\n",
              "      <td>34</td>\n",
              "      <td>3</td>\n",
              "      <td>4</td>\n",
              "      <td>1</td>\n",
              "      <td>3313.0</td>\n",
              "      <td>2661</td>\n",
              "      <td>1.404517</td>\n",
              "      <td>2.333333</td>\n",
              "    </tr>\n",
              "    <tr>\n",
              "      <th>4</th>\n",
              "      <td>0</td>\n",
              "      <td>M</td>\n",
              "      <td>3</td>\n",
              "      <td>0</td>\n",
              "      <td>Blue</td>\n",
              "      <td>21</td>\n",
              "      <td>5</td>\n",
              "      <td>1</td>\n",
              "      <td>0</td>\n",
              "      <td>4716.0</td>\n",
              "      <td>0</td>\n",
              "      <td>2.175097</td>\n",
              "      <td>2.500000</td>\n",
              "    </tr>\n",
              "  </tbody>\n",
              "</table>\n",
              "</div>"
            ],
            "text/plain": [
              "   Attrition_Flag Gender  ...  Trans_Amt_ratio  Trans_Count_ratio\n",
              "0               0      M  ...         1.334694           1.625000\n",
              "1               0      F  ...         1.541339           3.714286\n",
              "2               0      M  ...         2.594286           2.333333\n",
              "3               0      F  ...         1.404517           2.333333\n",
              "4               0      M  ...         2.175097           2.500000\n",
              "\n",
              "[5 rows x 13 columns]"
            ]
          },
          "metadata": {
            "tags": []
          },
          "execution_count": 113
        }
      ]
    },
    {
      "cell_type": "code",
      "metadata": {
        "colab": {
          "base_uri": "https://localhost:8080/"
        },
        "id": "Or9Cl6PNFg8j",
        "outputId": "760b65da-9f1f-4924-becd-16533703352a"
      },
      "source": [
        "data['Gender'].value_counts()"
      ],
      "execution_count": 114,
      "outputs": [
        {
          "output_type": "execute_result",
          "data": {
            "text/plain": [
              "F    5358\n",
              "M    4769\n",
              "Name: Gender, dtype: int64"
            ]
          },
          "metadata": {
            "tags": []
          },
          "execution_count": 114
        }
      ]
    },
    {
      "cell_type": "code",
      "metadata": {
        "id": "VzmZry4WFnvo",
        "colab": {
          "base_uri": "https://localhost:8080/"
        },
        "outputId": "05e5e8aa-c1eb-4f44-dfc8-2ad4d4a794bb"
      },
      "source": [
        "sex_mapping = {\"M\": 0, \"F\": 1}\n",
        "data_new['Gender'] = data_new['Gender'].map(sex_mapping)\n",
        "data_new['Gender'].head()"
      ],
      "execution_count": 115,
      "outputs": [
        {
          "output_type": "execute_result",
          "data": {
            "text/plain": [
              "0    0\n",
              "1    1\n",
              "2    0\n",
              "3    1\n",
              "4    0\n",
              "Name: Gender, dtype: int64"
            ]
          },
          "metadata": {
            "tags": []
          },
          "execution_count": 115
        }
      ]
    },
    {
      "cell_type": "code",
      "metadata": {
        "colab": {
          "base_uri": "https://localhost:8080/"
        },
        "id": "7CaiCPDKFw6Z",
        "outputId": "9b0d92f2-dfff-4778-9735-8642231521c6"
      },
      "source": [
        "data['Card_Category'].value_counts()"
      ],
      "execution_count": 116,
      "outputs": [
        {
          "output_type": "execute_result",
          "data": {
            "text/plain": [
              "Blue        9436\n",
              "Silver       555\n",
              "Gold         116\n",
              "Platinum      20\n",
              "Name: Card_Category, dtype: int64"
            ]
          },
          "metadata": {
            "tags": []
          },
          "execution_count": 116
        }
      ]
    },
    {
      "cell_type": "code",
      "metadata": {
        "colab": {
          "base_uri": "https://localhost:8080/"
        },
        "id": "xR2Is9quH46h",
        "outputId": "7b613705-1db3-452d-eb32-4e8634abf0ad"
      },
      "source": [
        "card_mapping = {\"Blue\": 0, \"Silver\": 1, \"Gold\":2, \"Platinum\":3}\n",
        "data_new['Card_Category'] = data_new['Card_Category'].map(card_mapping)\n",
        "data_new['Card_Category'].head()"
      ],
      "execution_count": 117,
      "outputs": [
        {
          "output_type": "execute_result",
          "data": {
            "text/plain": [
              "0    0\n",
              "1    0\n",
              "2    0\n",
              "3    0\n",
              "4    0\n",
              "Name: Card_Category, dtype: int64"
            ]
          },
          "metadata": {
            "tags": []
          },
          "execution_count": 117
        }
      ]
    },
    {
      "cell_type": "code",
      "metadata": {
        "colab": {
          "base_uri": "https://localhost:8080/",
          "height": 0
        },
        "id": "iCwhMklPVI_B",
        "outputId": "b0836db3-2a25-4a2d-a690-80bffb7fc70a"
      },
      "source": [
        "data_new.head()"
      ],
      "execution_count": 118,
      "outputs": [
        {
          "output_type": "execute_result",
          "data": {
            "text/html": [
              "<div>\n",
              "<style scoped>\n",
              "    .dataframe tbody tr th:only-of-type {\n",
              "        vertical-align: middle;\n",
              "    }\n",
              "\n",
              "    .dataframe tbody tr th {\n",
              "        vertical-align: top;\n",
              "    }\n",
              "\n",
              "    .dataframe thead th {\n",
              "        text-align: right;\n",
              "    }\n",
              "</style>\n",
              "<table border=\"1\" class=\"dataframe\">\n",
              "  <thead>\n",
              "    <tr style=\"text-align: right;\">\n",
              "      <th></th>\n",
              "      <th>Attrition_Flag</th>\n",
              "      <th>Gender</th>\n",
              "      <th>Dependent_count</th>\n",
              "      <th>Marital_Status</th>\n",
              "      <th>Card_Category</th>\n",
              "      <th>Months_on_book</th>\n",
              "      <th>Total_Relationship_Count</th>\n",
              "      <th>Months_Inactive_12_mon</th>\n",
              "      <th>Contacts_Count_12_mon</th>\n",
              "      <th>Credit_Limit</th>\n",
              "      <th>Total_Revolving_Bal</th>\n",
              "      <th>Trans_Amt_ratio</th>\n",
              "      <th>Trans_Count_ratio</th>\n",
              "    </tr>\n",
              "  </thead>\n",
              "  <tbody>\n",
              "    <tr>\n",
              "      <th>0</th>\n",
              "      <td>0</td>\n",
              "      <td>0</td>\n",
              "      <td>3</td>\n",
              "      <td>0</td>\n",
              "      <td>0</td>\n",
              "      <td>39</td>\n",
              "      <td>5</td>\n",
              "      <td>1</td>\n",
              "      <td>3</td>\n",
              "      <td>12691.0</td>\n",
              "      <td>777</td>\n",
              "      <td>1.334694</td>\n",
              "      <td>1.625000</td>\n",
              "    </tr>\n",
              "    <tr>\n",
              "      <th>1</th>\n",
              "      <td>0</td>\n",
              "      <td>1</td>\n",
              "      <td>5</td>\n",
              "      <td>1</td>\n",
              "      <td>0</td>\n",
              "      <td>44</td>\n",
              "      <td>6</td>\n",
              "      <td>1</td>\n",
              "      <td>2</td>\n",
              "      <td>8256.0</td>\n",
              "      <td>864</td>\n",
              "      <td>1.541339</td>\n",
              "      <td>3.714286</td>\n",
              "    </tr>\n",
              "    <tr>\n",
              "      <th>2</th>\n",
              "      <td>0</td>\n",
              "      <td>0</td>\n",
              "      <td>3</td>\n",
              "      <td>0</td>\n",
              "      <td>0</td>\n",
              "      <td>36</td>\n",
              "      <td>4</td>\n",
              "      <td>1</td>\n",
              "      <td>0</td>\n",
              "      <td>3418.0</td>\n",
              "      <td>0</td>\n",
              "      <td>2.594286</td>\n",
              "      <td>2.333333</td>\n",
              "    </tr>\n",
              "    <tr>\n",
              "      <th>3</th>\n",
              "      <td>0</td>\n",
              "      <td>1</td>\n",
              "      <td>4</td>\n",
              "      <td>2</td>\n",
              "      <td>0</td>\n",
              "      <td>34</td>\n",
              "      <td>3</td>\n",
              "      <td>4</td>\n",
              "      <td>1</td>\n",
              "      <td>3313.0</td>\n",
              "      <td>2661</td>\n",
              "      <td>1.404517</td>\n",
              "      <td>2.333333</td>\n",
              "    </tr>\n",
              "    <tr>\n",
              "      <th>4</th>\n",
              "      <td>0</td>\n",
              "      <td>0</td>\n",
              "      <td>3</td>\n",
              "      <td>0</td>\n",
              "      <td>0</td>\n",
              "      <td>21</td>\n",
              "      <td>5</td>\n",
              "      <td>1</td>\n",
              "      <td>0</td>\n",
              "      <td>4716.0</td>\n",
              "      <td>0</td>\n",
              "      <td>2.175097</td>\n",
              "      <td>2.500000</td>\n",
              "    </tr>\n",
              "  </tbody>\n",
              "</table>\n",
              "</div>"
            ],
            "text/plain": [
              "   Attrition_Flag  Gender  ...  Trans_Amt_ratio  Trans_Count_ratio\n",
              "0               0       0  ...         1.334694           1.625000\n",
              "1               0       1  ...         1.541339           3.714286\n",
              "2               0       0  ...         2.594286           2.333333\n",
              "3               0       1  ...         1.404517           2.333333\n",
              "4               0       0  ...         2.175097           2.500000\n",
              "\n",
              "[5 rows x 13 columns]"
            ]
          },
          "metadata": {
            "tags": []
          },
          "execution_count": 118
        }
      ]
    },
    {
      "cell_type": "markdown",
      "metadata": {
        "id": "vugeZeviWt_J"
      },
      "source": [
        "### **SPLITTING TEST AND TRAIN DATA**"
      ]
    },
    {
      "cell_type": "markdown",
      "metadata": {
        "id": "PpVQ5elhoJba"
      },
      "source": [
        "In the given dataset, there is no test dataset so we will have to partition our data into train data and test data\n",
        "\n",
        "Train_data: 7000\n",
        "Test_data : 3127"
      ]
    },
    {
      "cell_type": "code",
      "metadata": {
        "colab": {
          "base_uri": "https://localhost:8080/",
          "height": 224
        },
        "id": "7sNfdqEomhQM",
        "outputId": "710b4791-1cd8-4b68-87d6-6b431ccf6913"
      },
      "source": [
        "x_train, x_test = train_test_split(data_new, train_size=7127, test_size=3000)\n",
        "x_test.head()"
      ],
      "execution_count": 119,
      "outputs": [
        {
          "output_type": "execute_result",
          "data": {
            "text/html": [
              "<div>\n",
              "<style scoped>\n",
              "    .dataframe tbody tr th:only-of-type {\n",
              "        vertical-align: middle;\n",
              "    }\n",
              "\n",
              "    .dataframe tbody tr th {\n",
              "        vertical-align: top;\n",
              "    }\n",
              "\n",
              "    .dataframe thead th {\n",
              "        text-align: right;\n",
              "    }\n",
              "</style>\n",
              "<table border=\"1\" class=\"dataframe\">\n",
              "  <thead>\n",
              "    <tr style=\"text-align: right;\">\n",
              "      <th></th>\n",
              "      <th>Attrition_Flag</th>\n",
              "      <th>Gender</th>\n",
              "      <th>Dependent_count</th>\n",
              "      <th>Marital_Status</th>\n",
              "      <th>Card_Category</th>\n",
              "      <th>Months_on_book</th>\n",
              "      <th>Total_Relationship_Count</th>\n",
              "      <th>Months_Inactive_12_mon</th>\n",
              "      <th>Contacts_Count_12_mon</th>\n",
              "      <th>Credit_Limit</th>\n",
              "      <th>Total_Revolving_Bal</th>\n",
              "      <th>Trans_Amt_ratio</th>\n",
              "      <th>Trans_Count_ratio</th>\n",
              "    </tr>\n",
              "  </thead>\n",
              "  <tbody>\n",
              "    <tr>\n",
              "      <th>5715</th>\n",
              "      <td>0</td>\n",
              "      <td>0</td>\n",
              "      <td>1</td>\n",
              "      <td>0</td>\n",
              "      <td>0</td>\n",
              "      <td>43</td>\n",
              "      <td>4</td>\n",
              "      <td>5</td>\n",
              "      <td>3</td>\n",
              "      <td>20958.0</td>\n",
              "      <td>0</td>\n",
              "      <td>0.768585</td>\n",
              "      <td>0.695652</td>\n",
              "    </tr>\n",
              "    <tr>\n",
              "      <th>6170</th>\n",
              "      <td>0</td>\n",
              "      <td>1</td>\n",
              "      <td>5</td>\n",
              "      <td>1</td>\n",
              "      <td>0</td>\n",
              "      <td>34</td>\n",
              "      <td>4</td>\n",
              "      <td>3</td>\n",
              "      <td>2</td>\n",
              "      <td>5950.0</td>\n",
              "      <td>0</td>\n",
              "      <td>0.439839</td>\n",
              "      <td>0.783784</td>\n",
              "    </tr>\n",
              "    <tr>\n",
              "      <th>9733</th>\n",
              "      <td>1</td>\n",
              "      <td>1</td>\n",
              "      <td>2</td>\n",
              "      <td>2</td>\n",
              "      <td>1</td>\n",
              "      <td>29</td>\n",
              "      <td>5</td>\n",
              "      <td>2</td>\n",
              "      <td>6</td>\n",
              "      <td>12203.0</td>\n",
              "      <td>0</td>\n",
              "      <td>0.900133</td>\n",
              "      <td>0.843137</td>\n",
              "    </tr>\n",
              "    <tr>\n",
              "      <th>8343</th>\n",
              "      <td>0</td>\n",
              "      <td>1</td>\n",
              "      <td>3</td>\n",
              "      <td>0</td>\n",
              "      <td>0</td>\n",
              "      <td>36</td>\n",
              "      <td>1</td>\n",
              "      <td>2</td>\n",
              "      <td>3</td>\n",
              "      <td>3297.0</td>\n",
              "      <td>1554</td>\n",
              "      <td>0.605263</td>\n",
              "      <td>0.720000</td>\n",
              "    </tr>\n",
              "    <tr>\n",
              "      <th>2181</th>\n",
              "      <td>0</td>\n",
              "      <td>0</td>\n",
              "      <td>1</td>\n",
              "      <td>1</td>\n",
              "      <td>0</td>\n",
              "      <td>43</td>\n",
              "      <td>4</td>\n",
              "      <td>2</td>\n",
              "      <td>3</td>\n",
              "      <td>11909.0</td>\n",
              "      <td>1018</td>\n",
              "      <td>1.006211</td>\n",
              "      <td>0.656250</td>\n",
              "    </tr>\n",
              "  </tbody>\n",
              "</table>\n",
              "</div>"
            ],
            "text/plain": [
              "      Attrition_Flag  Gender  ...  Trans_Amt_ratio  Trans_Count_ratio\n",
              "5715               0       0  ...         0.768585           0.695652\n",
              "6170               0       1  ...         0.439839           0.783784\n",
              "9733               1       1  ...         0.900133           0.843137\n",
              "8343               0       1  ...         0.605263           0.720000\n",
              "2181               0       0  ...         1.006211           0.656250\n",
              "\n",
              "[5 rows x 13 columns]"
            ]
          },
          "metadata": {
            "tags": []
          },
          "execution_count": 119
        }
      ]
    },
    {
      "cell_type": "code",
      "metadata": {
        "id": "dlU_ACMqx_Ni",
        "colab": {
          "base_uri": "https://localhost:8080/"
        },
        "outputId": "332fa038-120c-4fe3-8fbf-8020a2cbffac"
      },
      "source": [
        "y_train = x_train['Attrition_Flag']\n",
        "x_train.drop('Attrition_Flag', axis=1, inplace=True)\n",
        "print(x_train.shape)\n",
        "print(y_train.shape)"
      ],
      "execution_count": 123,
      "outputs": [
        {
          "output_type": "stream",
          "text": [
            "(7127, 12)\n",
            "(7127,)\n"
          ],
          "name": "stdout"
        },
        {
          "output_type": "stream",
          "text": [
            "/usr/local/lib/python3.7/dist-packages/pandas/core/frame.py:4174: SettingWithCopyWarning: \n",
            "A value is trying to be set on a copy of a slice from a DataFrame\n",
            "\n",
            "See the caveats in the documentation: https://pandas.pydata.org/pandas-docs/stable/user_guide/indexing.html#returning-a-view-versus-a-copy\n",
            "  errors=errors,\n"
          ],
          "name": "stderr"
        }
      ]
    },
    {
      "cell_type": "code",
      "metadata": {
        "colab": {
          "base_uri": "https://localhost:8080/"
        },
        "id": "WdNxdp15ZUG5",
        "outputId": "ae76d26a-0770-439b-bc91-670ff78c14da"
      },
      "source": [
        "y_train.head()"
      ],
      "execution_count": 125,
      "outputs": [
        {
          "output_type": "execute_result",
          "data": {
            "text/plain": [
              "9684     0\n",
              "1100     0\n",
              "10008    1\n",
              "1601     0\n",
              "9464     1\n",
              "Name: Attrition_Flag, dtype: int64"
            ]
          },
          "metadata": {
            "tags": []
          },
          "execution_count": 125
        }
      ]
    },
    {
      "cell_type": "code",
      "metadata": {
        "colab": {
          "base_uri": "https://localhost:8080/"
        },
        "id": "Tb-oH8NFZkPA",
        "outputId": "5b86268f-63d9-4eb1-d563-a6fb3f14bde6"
      },
      "source": [
        "y_test = x_test['Attrition_Flag']\n",
        "x_test.drop('Attrition_Flag', axis=1, inplace=True)\n",
        "print(x_test.shape)\n",
        "print(y_test.shape)"
      ],
      "execution_count": 126,
      "outputs": [
        {
          "output_type": "stream",
          "text": [
            "(3000, 12)\n",
            "(3000,)\n"
          ],
          "name": "stdout"
        },
        {
          "output_type": "stream",
          "text": [
            "/usr/local/lib/python3.7/dist-packages/pandas/core/frame.py:4174: SettingWithCopyWarning: \n",
            "A value is trying to be set on a copy of a slice from a DataFrame\n",
            "\n",
            "See the caveats in the documentation: https://pandas.pydata.org/pandas-docs/stable/user_guide/indexing.html#returning-a-view-versus-a-copy\n",
            "  errors=errors,\n"
          ],
          "name": "stderr"
        }
      ]
    },
    {
      "cell_type": "code",
      "metadata": {
        "colab": {
          "base_uri": "https://localhost:8080/",
          "height": 224
        },
        "id": "Kl_W9lOyacd5",
        "outputId": "80aa5d73-c92f-4521-9890-9a6508e423d6"
      },
      "source": [
        "x_test.head()"
      ],
      "execution_count": 127,
      "outputs": [
        {
          "output_type": "execute_result",
          "data": {
            "text/html": [
              "<div>\n",
              "<style scoped>\n",
              "    .dataframe tbody tr th:only-of-type {\n",
              "        vertical-align: middle;\n",
              "    }\n",
              "\n",
              "    .dataframe tbody tr th {\n",
              "        vertical-align: top;\n",
              "    }\n",
              "\n",
              "    .dataframe thead th {\n",
              "        text-align: right;\n",
              "    }\n",
              "</style>\n",
              "<table border=\"1\" class=\"dataframe\">\n",
              "  <thead>\n",
              "    <tr style=\"text-align: right;\">\n",
              "      <th></th>\n",
              "      <th>Gender</th>\n",
              "      <th>Dependent_count</th>\n",
              "      <th>Marital_Status</th>\n",
              "      <th>Card_Category</th>\n",
              "      <th>Months_on_book</th>\n",
              "      <th>Total_Relationship_Count</th>\n",
              "      <th>Months_Inactive_12_mon</th>\n",
              "      <th>Contacts_Count_12_mon</th>\n",
              "      <th>Credit_Limit</th>\n",
              "      <th>Total_Revolving_Bal</th>\n",
              "      <th>Trans_Amt_ratio</th>\n",
              "      <th>Trans_Count_ratio</th>\n",
              "    </tr>\n",
              "  </thead>\n",
              "  <tbody>\n",
              "    <tr>\n",
              "      <th>5715</th>\n",
              "      <td>0</td>\n",
              "      <td>1</td>\n",
              "      <td>0</td>\n",
              "      <td>0</td>\n",
              "      <td>43</td>\n",
              "      <td>4</td>\n",
              "      <td>5</td>\n",
              "      <td>3</td>\n",
              "      <td>20958.0</td>\n",
              "      <td>0</td>\n",
              "      <td>0.768585</td>\n",
              "      <td>0.695652</td>\n",
              "    </tr>\n",
              "    <tr>\n",
              "      <th>6170</th>\n",
              "      <td>1</td>\n",
              "      <td>5</td>\n",
              "      <td>1</td>\n",
              "      <td>0</td>\n",
              "      <td>34</td>\n",
              "      <td>4</td>\n",
              "      <td>3</td>\n",
              "      <td>2</td>\n",
              "      <td>5950.0</td>\n",
              "      <td>0</td>\n",
              "      <td>0.439839</td>\n",
              "      <td>0.783784</td>\n",
              "    </tr>\n",
              "    <tr>\n",
              "      <th>9733</th>\n",
              "      <td>1</td>\n",
              "      <td>2</td>\n",
              "      <td>2</td>\n",
              "      <td>1</td>\n",
              "      <td>29</td>\n",
              "      <td>5</td>\n",
              "      <td>2</td>\n",
              "      <td>6</td>\n",
              "      <td>12203.0</td>\n",
              "      <td>0</td>\n",
              "      <td>0.900133</td>\n",
              "      <td>0.843137</td>\n",
              "    </tr>\n",
              "    <tr>\n",
              "      <th>8343</th>\n",
              "      <td>1</td>\n",
              "      <td>3</td>\n",
              "      <td>0</td>\n",
              "      <td>0</td>\n",
              "      <td>36</td>\n",
              "      <td>1</td>\n",
              "      <td>2</td>\n",
              "      <td>3</td>\n",
              "      <td>3297.0</td>\n",
              "      <td>1554</td>\n",
              "      <td>0.605263</td>\n",
              "      <td>0.720000</td>\n",
              "    </tr>\n",
              "    <tr>\n",
              "      <th>2181</th>\n",
              "      <td>0</td>\n",
              "      <td>1</td>\n",
              "      <td>1</td>\n",
              "      <td>0</td>\n",
              "      <td>43</td>\n",
              "      <td>4</td>\n",
              "      <td>2</td>\n",
              "      <td>3</td>\n",
              "      <td>11909.0</td>\n",
              "      <td>1018</td>\n",
              "      <td>1.006211</td>\n",
              "      <td>0.656250</td>\n",
              "    </tr>\n",
              "  </tbody>\n",
              "</table>\n",
              "</div>"
            ],
            "text/plain": [
              "      Gender  Dependent_count  ...  Trans_Amt_ratio  Trans_Count_ratio\n",
              "5715       0                1  ...         0.768585           0.695652\n",
              "6170       1                5  ...         0.439839           0.783784\n",
              "9733       1                2  ...         0.900133           0.843137\n",
              "8343       1                3  ...         0.605263           0.720000\n",
              "2181       0                1  ...         1.006211           0.656250\n",
              "\n",
              "[5 rows x 12 columns]"
            ]
          },
          "metadata": {
            "tags": []
          },
          "execution_count": 127
        }
      ]
    },
    {
      "cell_type": "code",
      "metadata": {
        "id": "R9rk2HcqbTL8"
      },
      "source": [
        "# Importing Classifier Modules\n",
        "from sklearn.metrics import accuracy_score\n",
        "from sklearn.tree import DecisionTreeClassifier\n",
        "from sklearn.ensemble import RandomForestClassifier\n",
        "from sklearn.naive_bayes import GaussianNB\n",
        "from sklearn.svm import SVC\n",
        "from sklearn.model_selection import KFold\n",
        "from sklearn.model_selection import cross_val_score"
      ],
      "execution_count": 135,
      "outputs": []
    },
    {
      "cell_type": "markdown",
      "metadata": {
        "id": "n_fTHyTbbWdi"
      },
      "source": [
        "Random Forest"
      ]
    },
    {
      "cell_type": "code",
      "metadata": {
        "colab": {
          "base_uri": "https://localhost:8080/"
        },
        "id": "U6HJ3M0eag34",
        "outputId": "018f7d98-365e-488a-85ea-437661515347"
      },
      "source": [
        "clf = RandomForestClassifier(n_estimators=100)\n",
        "clf.fit(x_train, y_train)\n",
        "y_pred_rf = clf.predict(x_test)\n",
        "accuracy_rf = accuracy_score(y_pred_rf, y_test)\n",
        "print(accuracy_rf*100)"
      ],
      "execution_count": 139,
      "outputs": [
        {
          "output_type": "stream",
          "text": [
            "90.76666666666667\n"
          ],
          "name": "stdout"
        }
      ]
    },
    {
      "cell_type": "markdown",
      "metadata": {
        "id": "lcFZZNJsbYhi"
      },
      "source": [
        "Decision Tree"
      ]
    },
    {
      "cell_type": "code",
      "metadata": {
        "colab": {
          "base_uri": "https://localhost:8080/"
        },
        "id": "MJAratLYbaOv",
        "outputId": "f10792e7-e202-4cad-bf18-f476a46e3666"
      },
      "source": [
        "clf = DecisionTreeClassifier()\n",
        "clf.fit(x_train, y_train)\n",
        "y_pred_dt = clf.predict(x_test)\n",
        "accuracy_dt = accuracy_score(y_pred_dt, y_test)\n",
        "print(accuracy_dt*100)"
      ],
      "execution_count": 140,
      "outputs": [
        {
          "output_type": "stream",
          "text": [
            "86.63333333333333\n"
          ],
          "name": "stdout"
        }
      ]
    },
    {
      "cell_type": "markdown",
      "metadata": {
        "id": "H_swJ-bZg3mn"
      },
      "source": [
        "So, Random Forest got the highest accuracy amongst the two"
      ]
    }
  ]
}