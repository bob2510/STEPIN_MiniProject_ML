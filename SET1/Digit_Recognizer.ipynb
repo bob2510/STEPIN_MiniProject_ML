{
  "nbformat": 4,
  "nbformat_minor": 0,
  "metadata": {
    "colab": {
      "name": "Digit_Recognizer.ipynb",
      "provenance": []
    },
    "kernelspec": {
      "name": "python3",
      "display_name": "Python 3"
    },
    "language_info": {
      "name": "python"
    },
    "accelerator": "GPU"
  },
  "cells": [
    {
      "cell_type": "markdown",
      "metadata": {
        "id": "oekOlAJJnTrJ"
      },
      "source": [
        "Importing important function from libraries"
      ]
    },
    {
      "cell_type": "code",
      "metadata": {
        "colab": {
          "base_uri": "https://localhost:8080/"
        },
        "id": "91cPVTVPn-1F",
        "outputId": "7ba9df71-1b2c-43bd-9a9c-2738f12c1c3e"
      },
      "source": [
        "from google.colab import drive\n",
        "drive.mount('/content/drive')"
      ],
      "execution_count": 8,
      "outputs": [
        {
          "output_type": "stream",
          "text": [
            "Drive already mounted at /content/drive; to attempt to forcibly remount, call drive.mount(\"/content/drive\", force_remount=True).\n"
          ],
          "name": "stdout"
        }
      ]
    },
    {
      "cell_type": "code",
      "metadata": {
        "id": "GxbLGE0SlIXo"
      },
      "source": [
        "import tensorflow as tf\n",
        "import numpy as np\n",
        "from keras.models import Sequential\n",
        "from keras.layers import Conv2D\n",
        "from keras.layers import MaxPooling2D\n",
        "from keras.layers import Dropout\n",
        "from keras.layers import Flatten\n",
        "from keras.layers import Dense\n",
        "from keras.utils.np_utils import to_categorical\n",
        "from keras.utils import np_utils\n",
        "import matplotlib.pyplot as plt\n",
        "import pandas as pd\n",
        "import math"
      ],
      "execution_count": 5,
      "outputs": []
    },
    {
      "cell_type": "markdown",
      "metadata": {
        "id": "CCy02WsFoiCN"
      },
      "source": [
        "Training Data with 42000 images of 28*28 = 784 pixels each"
      ]
    },
    {
      "cell_type": "code",
      "metadata": {
        "colab": {
          "base_uri": "https://localhost:8080/"
        },
        "id": "vWtF40uHm1IX",
        "outputId": "41b4a74f-79be-43c0-a22d-24d95e19b0ba"
      },
      "source": [
        "train = pd.read_csv(\"/content/drive/MyDrive/Digit_Recognizer/train.csv\")\n",
        "print(train.shape)"
      ],
      "execution_count": 6,
      "outputs": [
        {
          "output_type": "stream",
          "text": [
            "(42000, 785)\n"
          ],
          "name": "stdout"
        }
      ]
    },
    {
      "cell_type": "markdown",
      "metadata": {
        "id": "V1V6YuNkper0"
      },
      "source": [
        "Test Data with 28000 images of 28*28=784 pixels each"
      ]
    },
    {
      "cell_type": "code",
      "metadata": {
        "id": "kJoc-57Int0u",
        "colab": {
          "base_uri": "https://localhost:8080/"
        },
        "outputId": "ef55e388-13c8-438d-b009-0fa7e2630857"
      },
      "source": [
        "test = pd.read_csv(\"/content/drive/MyDrive/Digit_Recognizer/test.csv\")\n",
        "print(test.shape)"
      ],
      "execution_count": 7,
      "outputs": [
        {
          "output_type": "stream",
          "text": [
            "(28000, 784)\n"
          ],
          "name": "stdout"
        }
      ]
    },
    {
      "cell_type": "markdown",
      "metadata": {
        "id": "9zbhuqgQpWgh"
      },
      "source": [
        "x_train is the input training data\n",
        "\n",
        "y_train is the label/output of each input training image\n",
        "\n",
        "x_test is the input test data"
      ]
    },
    {
      "cell_type": "code",
      "metadata": {
        "colab": {
          "base_uri": "https://localhost:8080/"
        },
        "id": "yPj1xVw5ozP3",
        "outputId": "6e11b125-dc3e-4978-c328-8359c6ef3c3d"
      },
      "source": [
        "x_train = train.iloc[:, 1:785].values\n",
        "y_train = train.iloc[:, 0].values\n",
        "x_test = test.iloc[:, 0:784].values\n",
        "print(x_train.shape)\n",
        "print(y_train.shape)"
      ],
      "execution_count": 8,
      "outputs": [
        {
          "output_type": "stream",
          "text": [
            "(42000, 784)\n",
            "(42000,)\n"
          ],
          "name": "stdout"
        }
      ]
    },
    {
      "cell_type": "markdown",
      "metadata": {
        "id": "Kgx3BvJupHGa"
      },
      "source": [
        "Dividing the images by 255 to normalize them"
      ]
    },
    {
      "cell_type": "code",
      "metadata": {
        "colab": {
          "base_uri": "https://localhost:8080/"
        },
        "id": "e-7vBC0EpRcP",
        "outputId": "1843e96b-fdbb-44c6-e3ef-af455cff0f79"
      },
      "source": [
        "seed = 5\n",
        "np.random.seed(seed)\n",
        "x_train = x_train/255.0\n",
        "x_test = x_test/255.0\n",
        "print(x_train.shape)"
      ],
      "execution_count": 9,
      "outputs": [
        {
          "output_type": "stream",
          "text": [
            "(42000, 784)\n"
          ],
          "name": "stdout"
        }
      ]
    },
    {
      "cell_type": "markdown",
      "metadata": {
        "id": "FHvgb0MHdsrZ"
      },
      "source": [
        "We want images in a 28*28 size array"
      ]
    },
    {
      "cell_type": "code",
      "metadata": {
        "colab": {
          "base_uri": "https://localhost:8080/"
        },
        "id": "QRBEx7XvqtFV",
        "outputId": "0429e8c3-a415-46c8-fdb2-9008f9e86769"
      },
      "source": [
        "x_train = x_train.reshape(x_train.shape[0], 28, 28, 1)\n",
        "x_test = x_test.reshape(x_test.shape[0], 28, 28, 1)\n",
        "print(x_train.shape)"
      ],
      "execution_count": 10,
      "outputs": [
        {
          "output_type": "stream",
          "text": [
            "(42000, 28, 28, 1)\n"
          ],
          "name": "stdout"
        }
      ]
    },
    {
      "cell_type": "markdown",
      "metadata": {
        "id": "RrYLGCqnd1XE"
      },
      "source": [
        "Defining some constants"
      ]
    },
    {
      "cell_type": "code",
      "metadata": {
        "id": "FrMqWujiqyQL"
      },
      "source": [
        "num_classes = 10          #We can have 10 different ouptuts\n",
        "batch_size = 64           \n",
        "epochs = 40               \n",
        "input_shape = (28,28,1)   #Size of input image"
      ],
      "execution_count": 11,
      "outputs": []
    },
    {
      "cell_type": "markdown",
      "metadata": {
        "id": "9LZ1LJS8d7GT"
      },
      "source": [
        "Categorizing all outputs in 10 different possibilities"
      ]
    },
    {
      "cell_type": "code",
      "metadata": {
        "colab": {
          "base_uri": "https://localhost:8080/"
        },
        "id": "JGDoQpB2rPPr",
        "outputId": "6f5f7ef4-2246-4e49-e5fa-54bfc440212a"
      },
      "source": [
        "y_train = to_categorical(y_train, num_classes)\n",
        "print(y_train.shape)"
      ],
      "execution_count": 12,
      "outputs": [
        {
          "output_type": "stream",
          "text": [
            "(42000, 10)\n"
          ],
          "name": "stdout"
        }
      ]
    },
    {
      "cell_type": "code",
      "metadata": {
        "id": "Ni6s9gFvrrUh"
      },
      "source": [
        "from sklearn.model_selection import train_test_split\n",
        "x_train, x_validation, y_train, y_validation = train_test_split(x_train, y_train, test_size = 0.2, random_state=seed)"
      ],
      "execution_count": 13,
      "outputs": []
    },
    {
      "cell_type": "markdown",
      "metadata": {
        "id": "FZ-7NYTceHPz"
      },
      "source": [
        "**MODEL**"
      ]
    },
    {
      "cell_type": "code",
      "metadata": {
        "id": "QP-kv1mSrsNM"
      },
      "source": [
        "model = Sequential()\n",
        "model.add(Conv2D(32, kernel_size = (3,3), input_shape= input_shape, activation = 'relu'))\n",
        "model.add(MaxPooling2D(pool_size = (2,2)))\n",
        "model.add(Dropout(0.2))\n",
        "model.add(Conv2D(32, (3,3), activation = 'relu'))\n",
        "model.add(MaxPooling2D())\n",
        "model.add(Dropout(0.2))\n",
        "model.add(Flatten())\n",
        "model.add(Dense(512,activation = 'relu'))\n",
        "model.add(Dense(512, activation = 'relu'))\n",
        "model.add(Dense(num_classes, activation = 'sigmoid'))"
      ],
      "execution_count": 14,
      "outputs": []
    },
    {
      "cell_type": "code",
      "metadata": {
        "id": "m7jH6rGtruoK"
      },
      "source": [
        "model.compile(loss = 'categorical_crossentropy', optimizer = 'adam', metrics = ['accuracy'])"
      ],
      "execution_count": 15,
      "outputs": []
    },
    {
      "cell_type": "code",
      "metadata": {
        "colab": {
          "base_uri": "https://localhost:8080/"
        },
        "id": "Ha45_1z5r-LP",
        "outputId": "04ead6b9-cf0f-4c74-c0ee-20ea5e1d50ec"
      },
      "source": [
        "model.summary()\n"
      ],
      "execution_count": 16,
      "outputs": [
        {
          "output_type": "stream",
          "text": [
            "Model: \"sequential\"\n",
            "_________________________________________________________________\n",
            "Layer (type)                 Output Shape              Param #   \n",
            "=================================================================\n",
            "conv2d (Conv2D)              (None, 26, 26, 32)        320       \n",
            "_________________________________________________________________\n",
            "max_pooling2d (MaxPooling2D) (None, 13, 13, 32)        0         \n",
            "_________________________________________________________________\n",
            "dropout (Dropout)            (None, 13, 13, 32)        0         \n",
            "_________________________________________________________________\n",
            "conv2d_1 (Conv2D)            (None, 11, 11, 32)        9248      \n",
            "_________________________________________________________________\n",
            "max_pooling2d_1 (MaxPooling2 (None, 5, 5, 32)          0         \n",
            "_________________________________________________________________\n",
            "dropout_1 (Dropout)          (None, 5, 5, 32)          0         \n",
            "_________________________________________________________________\n",
            "flatten (Flatten)            (None, 800)               0         \n",
            "_________________________________________________________________\n",
            "dense (Dense)                (None, 512)               410112    \n",
            "_________________________________________________________________\n",
            "dense_1 (Dense)              (None, 512)               262656    \n",
            "_________________________________________________________________\n",
            "dense_2 (Dense)              (None, 10)                5130      \n",
            "=================================================================\n",
            "Total params: 687,466\n",
            "Trainable params: 687,466\n",
            "Non-trainable params: 0\n",
            "_________________________________________________________________\n"
          ],
          "name": "stdout"
        }
      ]
    },
    {
      "cell_type": "code",
      "metadata": {
        "colab": {
          "base_uri": "https://localhost:8080/"
        },
        "id": "7VxQuXPdr_9h",
        "outputId": "1ed7382e-094c-45b6-8485-93f467732999"
      },
      "source": [
        "model.fit(x_train, y_train, epochs = epochs, verbose = 1)"
      ],
      "execution_count": 17,
      "outputs": [
        {
          "output_type": "stream",
          "text": [
            "Epoch 1/40\n",
            "1050/1050 [==============================] - 47s 3ms/step - loss: 0.4117 - accuracy: 0.8643\n",
            "Epoch 2/40\n",
            "1050/1050 [==============================] - 3s 3ms/step - loss: 0.0727 - accuracy: 0.9778\n",
            "Epoch 3/40\n",
            "1050/1050 [==============================] - 3s 3ms/step - loss: 0.0552 - accuracy: 0.9829\n",
            "Epoch 4/40\n",
            "1050/1050 [==============================] - 3s 3ms/step - loss: 0.0384 - accuracy: 0.9882\n",
            "Epoch 5/40\n",
            "1050/1050 [==============================] - 3s 3ms/step - loss: 0.0350 - accuracy: 0.9891\n",
            "Epoch 6/40\n",
            "1050/1050 [==============================] - 3s 3ms/step - loss: 0.0318 - accuracy: 0.9904\n",
            "Epoch 7/40\n",
            "1050/1050 [==============================] - 3s 3ms/step - loss: 0.0275 - accuracy: 0.9914\n",
            "Epoch 8/40\n",
            "1050/1050 [==============================] - 3s 3ms/step - loss: 0.0305 - accuracy: 0.9900\n",
            "Epoch 9/40\n",
            "1050/1050 [==============================] - 3s 3ms/step - loss: 0.0207 - accuracy: 0.9929\n",
            "Epoch 10/40\n",
            "1050/1050 [==============================] - 3s 3ms/step - loss: 0.0216 - accuracy: 0.9927\n",
            "Epoch 11/40\n",
            "1050/1050 [==============================] - 3s 3ms/step - loss: 0.0249 - accuracy: 0.9925\n",
            "Epoch 12/40\n",
            "1050/1050 [==============================] - 3s 3ms/step - loss: 0.0175 - accuracy: 0.9952\n",
            "Epoch 13/40\n",
            "1050/1050 [==============================] - 3s 3ms/step - loss: 0.0183 - accuracy: 0.9946\n",
            "Epoch 14/40\n",
            "1050/1050 [==============================] - 3s 3ms/step - loss: 0.0167 - accuracy: 0.9947\n",
            "Epoch 15/40\n",
            "1050/1050 [==============================] - 3s 3ms/step - loss: 0.0132 - accuracy: 0.9953\n",
            "Epoch 16/40\n",
            "1050/1050 [==============================] - 3s 3ms/step - loss: 0.0180 - accuracy: 0.9940\n",
            "Epoch 17/40\n",
            "1050/1050 [==============================] - 3s 3ms/step - loss: 0.0162 - accuracy: 0.9955\n",
            "Epoch 18/40\n",
            "1050/1050 [==============================] - 4s 3ms/step - loss: 0.0142 - accuracy: 0.9964\n",
            "Epoch 19/40\n",
            "1050/1050 [==============================] - 4s 3ms/step - loss: 0.0137 - accuracy: 0.9958\n",
            "Epoch 20/40\n",
            "1050/1050 [==============================] - 3s 3ms/step - loss: 0.0124 - accuracy: 0.9966\n",
            "Epoch 21/40\n",
            "1050/1050 [==============================] - 3s 3ms/step - loss: 0.0152 - accuracy: 0.9955\n",
            "Epoch 22/40\n",
            "1050/1050 [==============================] - 3s 3ms/step - loss: 0.0107 - accuracy: 0.9971\n",
            "Epoch 23/40\n",
            "1050/1050 [==============================] - 3s 3ms/step - loss: 0.0117 - accuracy: 0.9971\n",
            "Epoch 24/40\n",
            "1050/1050 [==============================] - 3s 3ms/step - loss: 0.0112 - accuracy: 0.9968\n",
            "Epoch 25/40\n",
            "1050/1050 [==============================] - 3s 3ms/step - loss: 0.0121 - accuracy: 0.9965\n",
            "Epoch 26/40\n",
            "1050/1050 [==============================] - 3s 3ms/step - loss: 0.0133 - accuracy: 0.9966\n",
            "Epoch 27/40\n",
            "1050/1050 [==============================] - 3s 3ms/step - loss: 0.0103 - accuracy: 0.9965\n",
            "Epoch 28/40\n",
            "1050/1050 [==============================] - 3s 3ms/step - loss: 0.0127 - accuracy: 0.9969\n",
            "Epoch 29/40\n",
            "1050/1050 [==============================] - 3s 3ms/step - loss: 0.0088 - accuracy: 0.9973\n",
            "Epoch 30/40\n",
            "1050/1050 [==============================] - 3s 3ms/step - loss: 0.0072 - accuracy: 0.9978\n",
            "Epoch 31/40\n",
            "1050/1050 [==============================] - 3s 3ms/step - loss: 0.0129 - accuracy: 0.9964\n",
            "Epoch 32/40\n",
            "1050/1050 [==============================] - 3s 3ms/step - loss: 0.0090 - accuracy: 0.9973\n",
            "Epoch 33/40\n",
            "1050/1050 [==============================] - 3s 3ms/step - loss: 0.0085 - accuracy: 0.9975\n",
            "Epoch 34/40\n",
            "1050/1050 [==============================] - 3s 3ms/step - loss: 0.0090 - accuracy: 0.9977\n",
            "Epoch 35/40\n",
            "1050/1050 [==============================] - 3s 3ms/step - loss: 0.0083 - accuracy: 0.9977\n",
            "Epoch 36/40\n",
            "1050/1050 [==============================] - 3s 3ms/step - loss: 0.0087 - accuracy: 0.9979\n",
            "Epoch 37/40\n",
            "1050/1050 [==============================] - 3s 3ms/step - loss: 0.0128 - accuracy: 0.9972\n",
            "Epoch 38/40\n",
            "1050/1050 [==============================] - 3s 3ms/step - loss: 0.0113 - accuracy: 0.9966\n",
            "Epoch 39/40\n",
            "1050/1050 [==============================] - 3s 3ms/step - loss: 0.0091 - accuracy: 0.9975\n",
            "Epoch 40/40\n",
            "1050/1050 [==============================] - 3s 3ms/step - loss: 0.0055 - accuracy: 0.9981\n"
          ],
          "name": "stdout"
        },
        {
          "output_type": "execute_result",
          "data": {
            "text/plain": [
              "<keras.callbacks.History at 0x7f3b300a32d0>"
            ]
          },
          "metadata": {
            "tags": []
          },
          "execution_count": 17
        }
      ]
    },
    {
      "cell_type": "code",
      "metadata": {
        "colab": {
          "base_uri": "https://localhost:8080/"
        },
        "id": "dRBKwDqxsDIv",
        "outputId": "c37471a6-66bc-4a91-d74f-861fda5e2793"
      },
      "source": [
        "loss , accuracy = model.evaluate(x_validation, y_validation, verbose = 0)\n",
        "print(\"Loss : \",loss, \"Accuracy : \", accuracy)"
      ],
      "execution_count": 18,
      "outputs": [
        {
          "output_type": "stream",
          "text": [
            "Loss :  0.0714588537812233 Accuracy :  0.9885714054107666\n"
          ],
          "name": "stdout"
        }
      ]
    },
    {
      "cell_type": "markdown",
      "metadata": {
        "id": "Fhw2-NXnqD8N"
      },
      "source": [
        "So, we got an accuracy of 98.88 percent and a loss of 0.7 % which is alright"
      ]
    },
    {
      "cell_type": "code",
      "metadata": {
        "colab": {
          "base_uri": "https://localhost:8080/"
        },
        "id": "HZ-Lut9njCpn",
        "outputId": "2b45c922-3a55-43dd-99dc-a565042314d8"
      },
      "source": [
        "predicted_classes = model.predict_classes(x_test)"
      ],
      "execution_count": 19,
      "outputs": [
        {
          "output_type": "stream",
          "text": [
            "/usr/local/lib/python3.7/dist-packages/keras/engine/sequential.py:450: UserWarning: `model.predict_classes()` is deprecated and will be removed after 2021-01-01. Please use instead:* `np.argmax(model.predict(x), axis=-1)`,   if your model does multi-class classification   (e.g. if it uses a `softmax` last-layer activation).* `(model.predict(x) > 0.5).astype(\"int32\")`,   if your model does binary classification   (e.g. if it uses a `sigmoid` last-layer activation).\n",
            "  warnings.warn('`model.predict_classes()` is deprecated and '\n"
          ],
          "name": "stderr"
        }
      ]
    },
    {
      "cell_type": "code",
      "metadata": {
        "id": "ttF3Riv7pa8L"
      },
      "source": [
        "submissions=pd.DataFrame({\"ImageId\": list(range(1,len(predicted_classes)+1)), \"Label\": predicted_classes})"
      ],
      "execution_count": 20,
      "outputs": []
    },
    {
      "cell_type": "code",
      "metadata": {
        "id": "ldISykR4pdRZ"
      },
      "source": [
        "submissions.to_csv(\"submission.csv\", index = False, header = True)"
      ],
      "execution_count": 21,
      "outputs": []
    },
    {
      "cell_type": "code",
      "metadata": {
        "colab": {
          "base_uri": "https://localhost:8080/",
          "height": 17
        },
        "id": "7UXi1EhWpftj",
        "outputId": "30a466b6-3bfc-44af-cd57-7abd294fb282"
      },
      "source": [
        "from google.colab import files\n",
        "files.download('submission.csv')"
      ],
      "execution_count": 22,
      "outputs": [
        {
          "output_type": "display_data",
          "data": {
            "application/javascript": [
              "\n",
              "    async function download(id, filename, size) {\n",
              "      if (!google.colab.kernel.accessAllowed) {\n",
              "        return;\n",
              "      }\n",
              "      const div = document.createElement('div');\n",
              "      const label = document.createElement('label');\n",
              "      label.textContent = `Downloading \"${filename}\": `;\n",
              "      div.appendChild(label);\n",
              "      const progress = document.createElement('progress');\n",
              "      progress.max = size;\n",
              "      div.appendChild(progress);\n",
              "      document.body.appendChild(div);\n",
              "\n",
              "      const buffers = [];\n",
              "      let downloaded = 0;\n",
              "\n",
              "      const channel = await google.colab.kernel.comms.open(id);\n",
              "      // Send a message to notify the kernel that we're ready.\n",
              "      channel.send({})\n",
              "\n",
              "      for await (const message of channel.messages) {\n",
              "        // Send a message to notify the kernel that we're ready.\n",
              "        channel.send({})\n",
              "        if (message.buffers) {\n",
              "          for (const buffer of message.buffers) {\n",
              "            buffers.push(buffer);\n",
              "            downloaded += buffer.byteLength;\n",
              "            progress.value = downloaded;\n",
              "          }\n",
              "        }\n",
              "      }\n",
              "      const blob = new Blob(buffers, {type: 'application/binary'});\n",
              "      const a = document.createElement('a');\n",
              "      a.href = window.URL.createObjectURL(blob);\n",
              "      a.download = filename;\n",
              "      div.appendChild(a);\n",
              "      a.click();\n",
              "      div.remove();\n",
              "    }\n",
              "  "
            ],
            "text/plain": [
              "<IPython.core.display.Javascript object>"
            ]
          },
          "metadata": {
            "tags": []
          }
        },
        {
          "output_type": "display_data",
          "data": {
            "application/javascript": [
              "download(\"download_6baf62d4-8b21-4116-8c3c-cc6d68f08489\", \"submission.csv\", 212908)"
            ],
            "text/plain": [
              "<IPython.core.display.Javascript object>"
            ]
          },
          "metadata": {
            "tags": []
          }
        }
      ]
    }
  ]
}
